{
 "cells": [
  {
   "cell_type": "markdown",
   "id": "4c3fa17f",
   "metadata": {},
   "source": [
    "## Imports"
   ]
  },
  {
   "cell_type": "code",
   "execution_count": null,
   "id": "e7e03dd2",
   "metadata": {},
   "outputs": [],
   "source": [
    "import os\n",
    "from dotenv import load_dotenv\n",
    "import torch\n",
    "from model import UNet\n",
    "from helper import infer_and_show, reconstruct\n",
    "from huggingface_hub import login, hf_hub_download"
   ]
  },
  {
   "cell_type": "markdown",
   "id": "42744135",
   "metadata": {},
   "source": [
    "## Loading the trained model"
   ]
  },
  {
   "cell_type": "code",
   "execution_count": null,
   "id": "9a2eb21e",
   "metadata": {},
   "outputs": [],
   "source": [
    "device = torch.device('cuda' if torch.cuda.is_available() else 'cpu')\n",
    "device"
   ]
  },
  {
   "cell_type": "code",
   "execution_count": null,
   "id": "ae8675e7",
   "metadata": {},
   "outputs": [],
   "source": [
    "model = UNet(in_channels = 1, n_classes = 313).to(device)"
   ]
  },
  {
   "cell_type": "code",
   "execution_count": null,
   "id": "e37fe558",
   "metadata": {},
   "outputs": [],
   "source": [
    "# add hugging-face token that has access to this model: https://huggingface.co/nikhil-405/Gray2Color\n",
    "load_dotenv()\n",
    "HF_TOKEN = os.getenv(\"HF_TOKEN\")\n",
    "login(HF_TOKEN)"
   ]
  },
  {
   "cell_type": "code",
   "execution_count": null,
   "id": "a36e79fd",
   "metadata": {},
   "outputs": [],
   "source": [
    "# load model state dict\n",
    "ckpt_path = hf_hub_download(repo_id = \"nikhil-405/Gray2Color\", filename = \"Gray2Color.pth\", token = HF_TOKEN)\n",
    "checkpoint = torch.load(ckpt_path, map_location = device)\n",
    "model.load_state_dict(checkpoint['model_state_dict'])"
   ]
  },
  {
   "cell_type": "markdown",
   "id": "c3b5995a",
   "metadata": {},
   "source": [
    "## Actual inference"
   ]
  },
  {
   "cell_type": "code",
   "execution_count": null,
   "id": "9e0de76d",
   "metadata": {},
   "outputs": [],
   "source": [
    "# add url to an image to be colorized\n",
    "image_url = \"\""
   ]
  },
  {
   "cell_type": "code",
   "execution_count": null,
   "id": "36df89cc",
   "metadata": {},
   "outputs": [],
   "source": [
    "infer_and_show(image_url, model, reconstruct, device)"
   ]
  }
 ],
 "metadata": {
  "kernelspec": {
   "display_name": "Python 3",
   "language": "python",
   "name": "python3"
  },
  "language_info": {
   "codemirror_mode": {
    "name": "ipython",
    "version": 3
   },
   "file_extension": ".py",
   "mimetype": "text/x-python",
   "name": "python",
   "nbconvert_exporter": "python",
   "pygments_lexer": "ipython3",
   "version": "3.12.3"
  }
 },
 "nbformat": 4,
 "nbformat_minor": 5
}
